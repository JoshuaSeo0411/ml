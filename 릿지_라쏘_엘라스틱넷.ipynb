{
 "cells": [
  {
   "cell_type": "markdown",
   "id": "97db558e",
   "metadata": {},
   "source": [
    "### [`sklearn.linear_model`](https://scikit-learn.org/stable/modules/classes.html#module-sklearn.linear_model \"sklearn.linear_model\").Ridge\n",
    "* _class_ sklearn.linear_model.Ridge(_alpha=1.0_, _*_, _fit_intercept=True_, _copy_X=True_, _max_iter=None_, _tol=0.0001_, _solver='auto'_, _positive=False_, _random_state=None_)[[source]](https://github.com/scikit-learn/scikit-learn/blob/7db5b6a98/sklearn/linear_model/_ridge.py#L921)[¶](https://scikit-learn.org/stable/modules/generated/sklearn.linear_model.Ridge.html#sklearn.linear_model.Ridge \"Permalink to this definition\")\n",
    "\n",
    "**Parameters** :\n",
    "\n",
    "**alpha** : {float, ndarray of shape (n_targets,)}, default=1.0\n",
    "\n",
    "Constant that multiplies the L2 term, controlling regularization strength.  `alpha`  must be a non-negative float i.e. in  `[0,  inf)`.\n",
    "\n",
    "When  `alpha  =  0`, the objective is equivalent to ordinary least squares, solved by the  [`LinearRegression`](https://scikit-learn.org/stable/modules/generated/sklearn.linear_model.LinearRegression.html#sklearn.linear_model.LinearRegression \"sklearn.linear_model.LinearRegression\")  object. For numerical reasons, using  `alpha  =  0`  with the  `Ridge`  object is not advised. Instead, you should use the  [`LinearRegression`](https://scikit-learn.org/stable/modules/generated/sklearn.linear_model.LinearRegression.html#sklearn.linear_model.LinearRegression \"sklearn.linear_model.LinearRegression\")  object.\n",
    "\n",
    "If an array is passed, penalties are assumed to be specific to the targets. Hence they must correspond in number.\n",
    "\n",
    "**fit_intercept** : bool, default=True\n",
    "\n",
    "Whether to fit the intercept for this model. If set to false, no intercept will be used in calculations (i.e.  `X`  and  `y`  are expected to be centered).\n",
    "\n",
    "**copy_X** : bool, default=True\n",
    "\n",
    "If True, X will be copied; else, it may be overwritten.\n",
    "\n",
    "**max_iter** : int, default=None\n",
    "\n",
    "Maximum number of iterations for conjugate gradient solver. For ‘sparse_cg’ and ‘lsqr’ solvers, the default value is determined by scipy.sparse.linalg. For ‘sag’ solver, the default value is 1000. For ‘lbfgs’ solver, the default value is 15000.\n",
    "\n",
    "**tol** : float, default=1e-4\n",
    "\n",
    "Precision of the solution. Note that  `tol`  has no effect for solvers ‘svd’ and ‘cholesky’.\n",
    "\n",
    "Changed in version 1.2: Default value changed from 1e-3 to 1e-4 for consistency with other linear models."
   ]
  },
  {
   "cell_type": "markdown",
   "id": "c613c2ad",
   "metadata": {},
   "source": [
    "### [`sklearn.linear_model`](https://scikit-learn.org/stable/modules/classes.html#module-sklearn.linear_model \"sklearn.linear_model\").Lasso\n",
    "* _class_ sklearn.linear_model.Lasso(_alpha=1.0_, _*_, _fit_intercept=True_, _precompute=False_, _copy_X=True_, _max_iter=1000_, _tol=0.0001_, _warm_start=False_, _positive=False_, _random_state=None_, _selection='cyclic'_)[[source]](https://github.com/scikit-learn/scikit-learn/blob/7db5b6a98/sklearn/linear_model/_coordinate_descent.py#L1081)[¶](https://scikit-learn.org/stable/modules/generated/sklearn.linear_model.Lasso.html#sklearn.linear_model.Lasso \"Permalink to this definition\")\n",
    "\n",
    "**Parameters** :\n",
    "\n",
    "**alpha** : float, default=1.0\n",
    "\n",
    "Constant that multiplies the L1 term, controlling regularization strength.  `alpha`  must be a non-negative float i.e. in  `[0,  inf)`.\n",
    "\n",
    "When  `alpha  =  0`, the objective is equivalent to ordinary least squares, solved by the  [`LinearRegression`](https://scikit-learn.org/stable/modules/generated/sklearn.linear_model.LinearRegression.html#sklearn.linear_model.LinearRegression \"sklearn.linear_model.LinearRegression\")  object. For numerical reasons, using  `alpha  =  0`  with the  `Lasso`  object is not advised. Instead, you should use the  [`LinearRegression`](https://scikit-learn.org/stable/modules/generated/sklearn.linear_model.LinearRegression.html#sklearn.linear_model.LinearRegression \"sklearn.linear_model.LinearRegression\")  object.\n",
    "\n",
    "**fit_intercept** : bool, default=True\n",
    "\n",
    "Whether to calculate the intercept for this model. If set to False, no intercept will be used in calculations (i.e. data is expected to be centered).\n",
    "\n",
    "**precompute** : bool or array-like of shape (n_features, n_features), default=False\n",
    "\n",
    "Whether to use a precomputed Gram matrix to speed up calculations. The Gram matrix can also be passed as argument. For sparse input this option is always  `False`  to preserve sparsity.\n",
    "\n",
    "**copy_X** : bool, default=True\n",
    "\n",
    "If  `True`, X will be copied; else, it may be overwritten.\n",
    "\n",
    "**max_iter** : int, default=1000\n",
    "\n",
    "The maximum number of iterations.\n",
    "\n",
    "**tol** : float, default=1e-4\n",
    "\n",
    "The tolerance for the optimization: if the updates are smaller than  `tol`, the optimization code checks the dual gap for optimality and continues until it is smaller than  `tol`, see Notes below.\n",
    "\n",
    "**warm_start** : bool, default=False\n",
    "\n",
    "When set to True, reuse the solution of the previous call to fit as initialization, otherwise, just erase the previous solution. See  [the Glossary](https://scikit-learn.org/stable/glossary.html#term-warm_start).\n",
    "\n",
    "**positive** : bool, default=False\n",
    "\n",
    "When set to  `True`, forces the coefficients to be positive.\n",
    "\n",
    "**random_state** : int, RandomState instance, default=None\n",
    "\n",
    "The seed of the pseudo random number generator that selects a random feature to update. Used when  `selection`  == ‘random’. Pass an int for reproducible output across multiple function calls. See  [Glossary](https://scikit-learn.org/stable/glossary.html#term-random_state).\n",
    "\n",
    "**selection** : {‘cyclic’, ‘random’}, default=’cyclic’\n",
    "\n",
    "If set to ‘random’, a random coefficient is updated every iteration rather than looping over features sequentially by default. This (setting to ‘random’) often leads to significantly faster convergence especially when tol is higher than 1e-4."
   ]
  },
  {
   "cell_type": "code",
   "execution_count": 15,
   "id": "018f3af7",
   "metadata": {},
   "outputs": [
    {
     "name": "stdout",
     "output_type": "stream",
     "text": [
      "5 folds 의 개별 Negative MSE scores:  [-14.604 -24.249 -28.83  -74.663 -27.7  ]\n",
      "5 folds 의 개별 RMSE scores : [3.821 4.924 5.369 8.641 5.263]\n",
      "5 folds 의 평균 RMSE : 5.604\n"
     ]
    },
    {
     "name": "stderr",
     "output_type": "stream",
     "text": [
      "C:\\Users\\USER\\AppData\\Local\\Temp\\ipykernel_11120\\371462597.py:8: UserWarning: Pandas doesn't allow columns to be created via a new attribute name - see https://pandas.pydata.org/pandas-docs/stable/indexing.html#attribute-access\n",
      "  boston.feature_names = boston.columns\n"
     ]
    }
   ],
   "source": [
    "from sklearn.linear_model import LinearRegression, Ridge, Lasso\n",
    "from sklearn.model_selection import cross_val_score\n",
    "import pandas as pd\n",
    "import numpy as np\n",
    "\n",
    "# boston 데이터셋 로드\n",
    "boston = pd.read_csv('./datasets/Boston.csv')\n",
    "boston.feature_names = boston.columns\n",
    "\n",
    "# boston 데이터셋 DataFrame 변환\n",
    "bostonDF = pd.DataFrame(boston, columns=boston.feature_names).drop(columns='medv', axis=1)\n",
    "\n",
    "# boston dataset의 target array는 주택 가격, PRICE 컬럼으로 DataFrame에 존재\n",
    "bostonDF['PRICE'] = boston['medv']\n",
    "\n",
    "y_target = bostonDF['PRICE']\n",
    "x_data = bostonDF.drop(['PRICE'], axis=1, inplace=False)\n",
    "\n",
    "# 릿지 클래스\n",
    "ridge = Ridge(alpha=10)\n",
    "lr = LinearRegression()\n",
    "lasso = Lasso(alpha=10)\n",
    "neg_mse_scores = cross_val_score(ridge, x_data, y_target, scoring=\"neg_mean_squared_error\", cv=5)\n",
    "rmse_scores = np.sqrt(-1 * neg_mse_scores)\n",
    "avg_rmse = np.mean(rmse_scores)\n",
    "\n",
    "print('5 folds 의 개별 Negative MSE scores: ', np.round(neg_mse_scores, 3))\n",
    "print('5 folds 의 개별 RMSE scores :', np.round(rmse_scores, 3))\n",
    "print('5 folds 의 평균 RMSE : {0:.3f}'.format(avg_rmse))\n"
   ]
  },
  {
   "cell_type": "code",
   "execution_count": 16,
   "id": "6adeec56",
   "metadata": {},
   "outputs": [
    {
     "name": "stdout",
     "output_type": "stream",
     "text": [
      "5 folds 의 개별 Negative MSE scores:  [-14.753 -25.072 -32.737 -80.584 -32.162]\n",
      "5 folds 의 개별 RMSE scores : [3.841 5.007 5.722 8.977 5.671]\n",
      "5 folds 의 평균 RMSE : 5.844\n"
     ]
    }
   ],
   "source": [
    "## LinearRegression\n",
    "neg_mse_scores = cross_val_score(lr, x_data, y_target, scoring=\"neg_mean_squared_error\", cv=5)\n",
    "rmse_scores = np.sqrt(-1 * neg_mse_scores)\n",
    "avg_rmse = np.mean(rmse_scores)\n",
    "\n",
    "print('5 folds 의 개별 Negative MSE scores: ', np.round(neg_mse_scores, 3))\n",
    "print('5 folds 의 개별 RMSE scores :', np.round(rmse_scores, 3))\n",
    "print('5 folds 의 평균 RMSE : {0:.3f}'.format(avg_rmse))"
   ]
  },
  {
   "cell_type": "code",
   "execution_count": 30,
   "id": "c85fa941",
   "metadata": {},
   "outputs": [
    {
     "name": "stdout",
     "output_type": "stream",
     "text": [
      "5 folds 의 개별 Negative MSE scores:  [ -46.578  -83.808 -117.847  -91.76   -36.418]\n",
      "5 folds 의 개별 RMSE scores : [ 6.825  9.155 10.856  9.579  6.035]\n",
      "5 folds 의 평균 RMSE : 8.490\n"
     ]
    }
   ],
   "source": [
    "## 라쏘\n",
    "neg_mse_scores = cross_val_score(lasso, x_data, y_target, scoring=\"neg_mean_squared_error\", cv=5)\n",
    "rmse_scores = np.sqrt(-1 * neg_mse_scores)\n",
    "avg_rmse = np.mean(rmse_scores)\n",
    "\n",
    "print('5 folds 의 개별 Negative MSE scores: ', np.round(neg_mse_scores, 3))\n",
    "print('5 folds 의 개별 RMSE scores :', np.round(rmse_scores, 3))\n",
    "print('5 folds 의 평균 RMSE : {0:.3f}'.format(avg_rmse))"
   ]
  },
  {
   "cell_type": "code",
   "execution_count": 31,
   "id": "e33e193a",
   "metadata": {},
   "outputs": [
    {
     "name": "stdout",
     "output_type": "stream",
     "text": [
      "5.843570031453095\n",
      "5.806855643266924\n",
      "5.693297283231801\n",
      "5.603813086132244\n",
      "5.499629005415296\n"
     ]
    }
   ],
   "source": [
    "alphas = [0,0.1,1,10,100]\n",
    "\n",
    "for alpha in alphas:\n",
    "    ridge = Ridge(alpha=alpha)\n",
    "    neg_mse_ridge_score = cross_val_score(ridge, x_data, y_target, scoring=\"neg_mean_squared_error\", cv=5)\n",
    "    avg_rmse = np.mean(np.sqrt(-1 * neg_mse_ridge_score))\n",
    "    print(avg_rmse)"
   ]
  },
  {
   "cell_type": "code",
   "execution_count": 34,
   "id": "fb9fd0c8",
   "metadata": {},
   "outputs": [
    {
     "name": "stdout",
     "output_type": "stream",
     "text": [
      "5.843570031453093\n",
      "5.867702208665685\n",
      "6.081583924885157\n",
      "7.183401171075301\n",
      "8.489818561148812\n"
     ]
    },
    {
     "name": "stderr",
     "output_type": "stream",
     "text": [
      "C:\\Users\\USER\\AppData\\Local\\Programs\\Python\\Python310\\lib\\site-packages\\sklearn\\model_selection\\_validation.py:686: UserWarning: With alpha=0, this algorithm does not converge well. You are advised to use the LinearRegression estimator\n",
      "  estimator.fit(X_train, y_train, **fit_params)\n",
      "C:\\Users\\USER\\AppData\\Local\\Programs\\Python\\Python310\\lib\\site-packages\\sklearn\\linear_model\\_coordinate_descent.py:631: UserWarning: Coordinate descent with no regularization may lead to unexpected results and is discouraged.\n",
      "  model = cd_fast.enet_coordinate_descent(\n",
      "C:\\Users\\USER\\AppData\\Local\\Programs\\Python\\Python310\\lib\\site-packages\\sklearn\\linear_model\\_coordinate_descent.py:631: ConvergenceWarning: Objective did not converge. You might want to increase the number of iterations, check the scale of the features or consider increasing regularisation. Duality gap: 4.913e+03, tolerance: 3.919e+00 Linear regression models with null weight for the l1 regularization term are more efficiently fitted using one of the solvers implemented in sklearn.linear_model.Ridge/RidgeCV instead.\n",
      "  model = cd_fast.enet_coordinate_descent(\n",
      "C:\\Users\\USER\\AppData\\Local\\Programs\\Python\\Python310\\lib\\site-packages\\sklearn\\model_selection\\_validation.py:686: UserWarning: With alpha=0, this algorithm does not converge well. You are advised to use the LinearRegression estimator\n",
      "  estimator.fit(X_train, y_train, **fit_params)\n",
      "C:\\Users\\USER\\AppData\\Local\\Programs\\Python\\Python310\\lib\\site-packages\\sklearn\\linear_model\\_coordinate_descent.py:631: UserWarning: Coordinate descent with no regularization may lead to unexpected results and is discouraged.\n",
      "  model = cd_fast.enet_coordinate_descent(\n",
      "C:\\Users\\USER\\AppData\\Local\\Programs\\Python\\Python310\\lib\\site-packages\\sklearn\\linear_model\\_coordinate_descent.py:631: ConvergenceWarning: Objective did not converge. You might want to increase the number of iterations, check the scale of the features or consider increasing regularisation. Duality gap: 4.496e+03, tolerance: 3.307e+00 Linear regression models with null weight for the l1 regularization term are more efficiently fitted using one of the solvers implemented in sklearn.linear_model.Ridge/RidgeCV instead.\n",
      "  model = cd_fast.enet_coordinate_descent(\n",
      "C:\\Users\\USER\\AppData\\Local\\Programs\\Python\\Python310\\lib\\site-packages\\sklearn\\model_selection\\_validation.py:686: UserWarning: With alpha=0, this algorithm does not converge well. You are advised to use the LinearRegression estimator\n",
      "  estimator.fit(X_train, y_train, **fit_params)\n",
      "C:\\Users\\USER\\AppData\\Local\\Programs\\Python\\Python310\\lib\\site-packages\\sklearn\\linear_model\\_coordinate_descent.py:631: UserWarning: Coordinate descent with no regularization may lead to unexpected results and is discouraged.\n",
      "  model = cd_fast.enet_coordinate_descent(\n",
      "C:\\Users\\USER\\AppData\\Local\\Programs\\Python\\Python310\\lib\\site-packages\\sklearn\\linear_model\\_coordinate_descent.py:631: ConvergenceWarning: Objective did not converge. You might want to increase the number of iterations, check the scale of the features or consider increasing regularisation. Duality gap: 4.285e+03, tolerance: 2.814e+00 Linear regression models with null weight for the l1 regularization term are more efficiently fitted using one of the solvers implemented in sklearn.linear_model.Ridge/RidgeCV instead.\n",
      "  model = cd_fast.enet_coordinate_descent(\n",
      "C:\\Users\\USER\\AppData\\Local\\Programs\\Python\\Python310\\lib\\site-packages\\sklearn\\model_selection\\_validation.py:686: UserWarning: With alpha=0, this algorithm does not converge well. You are advised to use the LinearRegression estimator\n",
      "  estimator.fit(X_train, y_train, **fit_params)\n",
      "C:\\Users\\USER\\AppData\\Local\\Programs\\Python\\Python310\\lib\\site-packages\\sklearn\\linear_model\\_coordinate_descent.py:631: UserWarning: Coordinate descent with no regularization may lead to unexpected results and is discouraged.\n",
      "  model = cd_fast.enet_coordinate_descent(\n",
      "C:\\Users\\USER\\AppData\\Local\\Programs\\Python\\Python310\\lib\\site-packages\\sklearn\\linear_model\\_coordinate_descent.py:631: ConvergenceWarning: Objective did not converge. You might want to increase the number of iterations, check the scale of the features or consider increasing regularisation. Duality gap: 2.614e+03, tolerance: 3.307e+00 Linear regression models with null weight for the l1 regularization term are more efficiently fitted using one of the solvers implemented in sklearn.linear_model.Ridge/RidgeCV instead.\n",
      "  model = cd_fast.enet_coordinate_descent(\n",
      "C:\\Users\\USER\\AppData\\Local\\Programs\\Python\\Python310\\lib\\site-packages\\sklearn\\model_selection\\_validation.py:686: UserWarning: With alpha=0, this algorithm does not converge well. You are advised to use the LinearRegression estimator\n",
      "  estimator.fit(X_train, y_train, **fit_params)\n",
      "C:\\Users\\USER\\AppData\\Local\\Programs\\Python\\Python310\\lib\\site-packages\\sklearn\\linear_model\\_coordinate_descent.py:631: UserWarning: Coordinate descent with no regularization may lead to unexpected results and is discouraged.\n",
      "  model = cd_fast.enet_coordinate_descent(\n",
      "C:\\Users\\USER\\AppData\\Local\\Programs\\Python\\Python310\\lib\\site-packages\\sklearn\\linear_model\\_coordinate_descent.py:631: ConvergenceWarning: Objective did not converge. You might want to increase the number of iterations, check the scale of the features or consider increasing regularisation. Duality gap: 4.597e+03, tolerance: 3.481e+00 Linear regression models with null weight for the l1 regularization term are more efficiently fitted using one of the solvers implemented in sklearn.linear_model.Ridge/RidgeCV instead.\n",
      "  model = cd_fast.enet_coordinate_descent(\n"
     ]
    }
   ],
   "source": [
    "alphas = [0,0.5,1,10,100]\n",
    "\n",
    "for alpha in alphas:\n",
    "    lasso = Lasso(alpha=alpha)\n",
    "    neg_mse_ridge_score = cross_val_score(lasso, x_data, y_target, scoring=\"neg_mean_squared_error\", cv=5)\n",
    "    avg_rmse = np.mean(np.sqrt(-1 * neg_mse_ridge_score))\n",
    "    print(avg_rmse)"
   ]
  },
  {
   "cell_type": "code",
   "execution_count": 27,
   "id": "e4959cce",
   "metadata": {
    "scrolled": true
   },
   "outputs": [
    {
     "data": {
      "image/png": "[encoded data removed]",
      "text/plain": [
       "<Figure size 1800x600 with 5 Axes>"
      ]
     },
     "metadata": {},
     "output_type": "display_data"
    }
   ],
   "source": [
    "import matplotlib.pyplot as plt\n",
    "import seaborn as sns\n",
    "\n",
    "# 각 alpha에 따른 회귀 계수 값을 시각화 하기 위해 5개의 열로 된 맷플롯립 축 생성\n",
    "fig, axs = plt.subplots(figsize=(18,6), nrows=1, ncols=5)\n",
    "# 각 alpha에 따른 회귀 계수 값을 데이터로 저장하기 위한 DataFrame 생성\n",
    "coeff_df = pd.DataFrame()\n",
    "\n",
    "# alphas 리스트 값을 차례로 입력해 회귀 계수 값 시각화 및 데이터 저장. pos는 axis의 위치 지정\n",
    "for pos, alpha in enumerate(alphas):\n",
    "    ridge = Ridge(alpha=alpha)\n",
    "    ridge.fit(x_data, y_target)\n",
    "    # alpha에 따른 피쳐별 회귀 계수를 Series로 변환하고 이를 DataFrame의 컬럼으로 추가\n",
    "    coeff = pd.Series(data=ridge.coef_, index=x_data.columns)\n",
    "    colname = 'alpha:' + str(alpha)\n",
    "    coeff_df[colname] = coeff\n",
    "    # 막대 그래프로 각 alpha 값에서의 회귀 계수를 시각화. 회귀 계수 값이 높은 순으로 표현\n",
    "    coeff = coeff.sort_values(ascending=False) # 회귀 계수 값이 높은 순으로 정렬\n",
    "    axs[pos].set_title(colname)\n",
    "    axs[pos].set_xlim(-3, 6)\n",
    "    sns.barplot(x=coeff.values, y=coeff.index, ax=axs[pos])"
   ]
  },
  {
   "cell_type": "code",
   "execution_count": 28,
   "id": "57588934",
   "metadata": {},
   "outputs": [
    {
     "data": {
      "text/plain": [
       "rm            2.348374\n",
       "chas          0.642700\n",
       "rad           0.332157\n",
       "zn            0.055823\n",
       "black         0.009416\n",
       "age          -0.000734\n",
       "Unnamed: 0   -0.002172\n",
       "tax          -0.015208\n",
       "indus        -0.052455\n",
       "crim         -0.102900\n",
       "nox          -0.259752\n",
       "lstat        -0.662552\n",
       "ptratio      -0.828259\n",
       "dis          -1.169480\n",
       "dtype: float64"
      ]
     },
     "execution_count": 28,
     "metadata": {},
     "output_type": "execute_result"
    }
   ],
   "source": [
    "coeff"
   ]
  },
  {
   "cell_type": "code",
   "execution_count": 35,
   "id": "75a68733",
   "metadata": {
    "scrolled": true
   },
   "outputs": [
    {
     "name": "stderr",
     "output_type": "stream",
     "text": [
      "C:\\Users\\USER\\AppData\\Local\\Temp\\ipykernel_11120\\41945742.py:8: UserWarning: With alpha=0, this algorithm does not converge well. You are advised to use the LinearRegression estimator\n",
      "  lasso.fit(x_data, y_target)\n",
      "C:\\Users\\USER\\AppData\\Local\\Programs\\Python\\Python310\\lib\\site-packages\\sklearn\\linear_model\\_coordinate_descent.py:631: UserWarning: Coordinate descent with no regularization may lead to unexpected results and is discouraged.\n",
      "  model = cd_fast.enet_coordinate_descent(\n",
      "C:\\Users\\USER\\AppData\\Local\\Programs\\Python\\Python310\\lib\\site-packages\\sklearn\\linear_model\\_coordinate_descent.py:631: ConvergenceWarning: Objective did not converge. You might want to increase the number of iterations, check the scale of the features or consider increasing regularisation. Duality gap: 5.523e+03, tolerance: 4.272e+00 Linear regression models with null weight for the l1 regularization term are more efficiently fitted using one of the solvers implemented in sklearn.linear_model.Ridge/RidgeCV instead.\n",
      "  model = cd_fast.enet_coordinate_descent(\n"
     ]
    },
    {
     "name": "stdout",
     "output_type": "stream",
     "text": [
      "rm             3.839225\n",
      "chas           2.705245\n",
      "rad            0.324925\n",
      "zn             0.048031\n",
      "indus          0.019932\n",
      "black          0.009357\n",
      "age           -0.001938\n",
      "Unnamed: 0    -0.002526\n",
      "tax           -0.011598\n",
      "crim          -0.108762\n",
      "lstat         -0.526184\n",
      "ptratio       -0.947985\n",
      "dis           -1.493304\n",
      "nox          -17.541602\n",
      "dtype: float64\n",
      "rm            2.514752\n",
      "rad           0.289568\n",
      "zn            0.050519\n",
      "black         0.009491\n",
      "age           0.002135\n",
      "chas          0.000000\n",
      "nox          -0.000000\n",
      "Unnamed: 0   -0.001545\n",
      "indus        -0.004927\n",
      "tax          -0.014993\n",
      "crim         -0.083865\n",
      "lstat        -0.657086\n",
      "ptratio      -0.757616\n",
      "dis          -0.949550\n",
      "dtype: float64\n",
      "rm            0.951835\n",
      "rad           0.266066\n",
      "zn            0.049306\n",
      "age           0.020707\n",
      "black         0.008250\n",
      "indus        -0.000000\n",
      "chas          0.000000\n",
      "nox          -0.000000\n",
      "Unnamed: 0   -0.000216\n",
      "tax          -0.015155\n",
      "crim         -0.063555\n",
      "dis          -0.670667\n",
      "ptratio      -0.722847\n",
      "lstat        -0.761224\n",
      "dtype: float64\n",
      "zn            0.024755\n",
      "black         0.007593\n",
      "Unnamed: 0    0.002528\n",
      "crim         -0.000000\n",
      "indus        -0.000000\n",
      "chas          0.000000\n",
      "nox           0.000000\n",
      "rm            0.000000\n",
      "age           0.000000\n",
      "dis          -0.000000\n",
      "rad           0.000000\n",
      "ptratio      -0.000000\n",
      "tax          -0.010927\n",
      "lstat        -0.557720\n",
      "dtype: float64\n",
      "black         0.004466\n",
      "Unnamed: 0    0.000000\n",
      "crim         -0.000000\n",
      "zn            0.000000\n",
      "indus        -0.000000\n",
      "chas          0.000000\n",
      "nox          -0.000000\n",
      "rm            0.000000\n",
      "age          -0.000000\n",
      "dis           0.000000\n",
      "rad          -0.000000\n",
      "ptratio      -0.000000\n",
      "lstat        -0.000000\n",
      "tax          -0.020972\n",
      "dtype: float64\n"
     ]
    },
    {
     "data": {
      "image/png": "[encoded data removed]",
      "text/plain": [
       "<Figure size 1800x600 with 5 Axes>"
      ]
     },
     "metadata": {},
     "output_type": "display_data"
    }
   ],
   "source": [
    "# 각 alpha에 따른 회귀 계수 값을 시각화 하기 위해 5개의 열로 된 맷플롯립 축 생성\n",
    "fig, axs = plt.subplots(figsize=(18,6), nrows=1, ncols=5)\n",
    "# 각 alpha에 따른 회귀 계수 값을 데이터로 저장하기 위한 DataFrame 생성\n",
    "coeff_df = pd.DataFrame()\n",
    "\n",
    "for pos, alpha in enumerate(alphas):\n",
    "    lasso = Lasso(alpha=alpha)\n",
    "    lasso.fit(x_data, y_target)\n",
    "    # alpha에 따른 피쳐별 회귀 계수를 Series로 변환하고 이를 DataFrame의 컬럼으로 추가\n",
    "    coeff = pd.Series(data=lasso.coef_, index=x_data.columns)\n",
    "    colname = 'alpha:' + str(alpha)\n",
    "    coeff_df[colname] = coeff\n",
    "    # 막대 그래프로 각 alpha 값에서의 회귀 계수를 시각화. 회귀 계수 값이 높은 순으로 표현\n",
    "    coeff = coeff.sort_values(ascending=False) # 회귀 계수 값이 높은 순으로 정렬\n",
    "    print(coeff)\n",
    "    axs[pos].set_title(colname)\n",
    "    axs[pos].set_xlim(-3, 6)\n",
    "    sns.barplot(x=coeff.values, y=coeff.index, ax=axs[pos])"
   ]
  },
  {
   "cell_type": "markdown",
   "id": "9ced51f3",
   "metadata": {},
   "source": [
    "### [`sklearn.linear_model`](https://scikit-learn.org/stable/modules/classes.html#module-sklearn.linear_model \"sklearn.linear_model\").ElasticNet\n",
    "* _class_ sklearn.linear_model.ElasticNet(_alpha=1.0_,  _*_,  _l1_ratio=0.5_,  _fit_intercept=True_,  _precompute=False_,  _max_iter=1000_,  _copy_X=True_,  _tol=0.0001_,  _warm_start=False_,  _positive=False_,  _random_state=None_,  _selection='cyclic'_)[[source]](https://github.com/scikit-learn/scikit-learn/blob/7db5b6a98/sklearn/linear_model/_coordinate_descent.py#L663)[](https://scikit-learn.org/stable/modules/generated/sklearn.linear_model.ElasticNet.html#sklearn.linear_model.ElasticNet \"Permalink to this definition\")\n",
    "\n",
    "**Parameters** :\n",
    "\n",
    "**alpha** : float, default=1.0\n",
    "\n",
    "Constant that multiplies the penalty terms. Defaults to 1.0. See the notes for the exact mathematical meaning of this parameter.  `alpha  =  0`  is equivalent to an ordinary least square, solved by the  [`LinearRegression`](https://scikit-learn.org/stable/modules/generated/sklearn.linear_model.LinearRegression.html#sklearn.linear_model.LinearRegression \"sklearn.linear_model.LinearRegression\")  object. For numerical reasons, using  `alpha  =  0`  with the  `Lasso`  object is not advised. Given this, you should use the  [`LinearRegression`](https://scikit-learn.org/stable/modules/generated/sklearn.linear_model.LinearRegression.html#sklearn.linear_model.LinearRegression \"sklearn.linear_model.LinearRegression\")  object.\n",
    "\n",
    "**l1_ratio** : float, default=0.5\n",
    "\n",
    "The ElasticNet mixing parameter, with  `0  <=  l1_ratio  <=  1`. For  `l1_ratio  =  0`  the penalty is an L2 penalty.  `For  l1_ratio  =  1`  it is an L1 penalty. For  `0  <  l1_ratio  <  1`, the penalty is a combination of L1 and L2.\n",
    "\n",
    "**fit_intercept** : bool, default=True\n",
    "\n",
    "Whether the intercept should be estimated or not. If  `False`, the data is assumed to be already centered.\n",
    "\n",
    "**precompute** : bool or array-like of shape (n_features, n_features), default=False\n",
    "\n",
    "Whether to use a precomputed Gram matrix to speed up calculations. The Gram matrix can also be passed as argument. For sparse input this option is always  `False`  to preserve sparsity.\n",
    "\n",
    "**max_iter** : int, default=1000\n",
    "\n",
    "The maximum number of iterations.\n",
    "\n",
    "**copy_X** : bool, default=True\n",
    "\n",
    "If  `True`, X will be copied; else, it may be overwritten.\n",
    "\n",
    "**tol** : float, default=1e-4\n",
    "\n",
    "The tolerance for the optimization: if the updates are smaller than  `tol`, the optimization code checks the dual gap for optimality and continues until it is smaller than  `tol`, see Notes below.\n",
    "\n",
    "**warm_start** : bool, default=False\n",
    "\n",
    "When set to  `True`, reuse the solution of the previous call to fit as initialization, otherwise, just erase the previous solution. See  [the Glossary](https://scikit-learn.org/stable/glossary.html#term-warm_start).\n",
    "\n",
    "**positive** : bool, default=False\n",
    "\n",
    "When set to  `True`, forces the coefficients to be positive.\n",
    "\n",
    "**random_state** : int, RandomState instance, default=None\n",
    "\n",
    "The seed of the pseudo random number generator that selects a random feature to update. Used when  `selection`  == ‘random’. Pass an int for reproducible output across multiple function calls. See  [Glossary](https://scikit-learn.org/stable/glossary.html#term-random_state).\n",
    "\n",
    "**selection** : {‘cyclic’, ‘random’}, default=’cyclic’\n",
    "\n",
    "If set to ‘random’, a random coefficient is updated every iteration rather than looping over features sequentially by default. This (setting to ‘random’) often leads to significantly faster convergence especially when tol is higher than 1e-4."
   ]
  },
  {
   "cell_type": "code",
   "execution_count": 36,
   "id": "626927f8",
   "metadata": {},
   "outputs": [],
   "source": [
    "from sklearn.linear_model import ElasticNet\n",
    "\n",
    "# alpha값에 따른 회귀 모델의 폴드 평균 RMSE를 출력하고, 회귀 계수값들을 DataFrame으로 반환해주는 함수\n",
    "def get_linear_reg_eval(model_name, params=None, x_data_n=None, y_target_n=None, verbose=True):\n",
    "    coeff_df = pd.DataFrame()\n",
    "    if verbose : print('#######', model_name, '#######')\n",
    "    for param in params:\n",
    "        if model_name == 'Ridge' : model = Ridge(alpha=param)\n",
    "        elif model_name == 'Lasso' : model = Lasso(alpha=param)\n",
    "        elif model_name == 'ElasticNet' : model = ElasticNet(alpha=param, l1_ratio=0.7)\n",
    "        neg_mse_scores = cross_val_score(model, x_data_n, y_target_n, scoring=\"neg_mean_squared_error\", cv=5)\n",
    "        avg_rmse = np.mean(np.sqrt(-1 * neg_mse_scores))\n",
    "        print('alpha {0} 일 때 5폴드 세트의 평균 RMSE: {1:.3f}'.format(param, avg_rmse))\n",
    "        \n",
    "        # cross_val_score는 evaluation metric만 반환하므로 모델을 다시 학습하여 회귀 계수 추출\n",
    "        model.fit(x_data, y_target)\n",
    "        # alpha에 따른 피쳐별 회귀 계수를 Series로 변환하고 이를 DataFrame의 컬럼으로 추가.\n",
    "        coeff = pd.Series(data=model.coef_, index=x_data.columns)\n",
    "        colname = 'alpha:' + str(param)\n",
    "        coeff_df[colname] = coeff\n",
    "    return coeff_df"
   ]
  },
  {
   "cell_type": "code",
   "execution_count": 39,
   "id": "e3a37584",
   "metadata": {},
   "outputs": [
    {
     "name": "stdout",
     "output_type": "stream",
     "text": [
      "####### Lasso #######\n",
      "alpha 0.07 일 때 5폴드 세트의 평균 RMSE: 5.714\n",
      "alpha 0.1 일 때 5폴드 세트의 평균 RMSE: 5.731\n",
      "alpha 0.5 일 때 5폴드 세트의 평균 RMSE: 5.868\n",
      "alpha 1 일 때 5폴드 세트의 평균 RMSE: 6.082\n",
      "alpha 3 일 때 5폴드 세트의 평균 RMSE: 6.783\n"
     ]
    }
   ],
   "source": [
    "# 라쏘에 사용될 alpha 파라미터의 값들을 정의하고 get_linear_reg_eval() 함수 호출\n",
    "lasso_alphas = [0.07, 0.1, 0.5, 1, 3]\n",
    "coeff_lasso_df = get_linear_reg_eval('Lasso', params=lasso_alphas, x_data_n=x_data, y_target_n=y_target)"
   ]
  },
  {
   "cell_type": "code",
   "execution_count": 41,
   "id": "be2e8782",
   "metadata": {},
   "outputs": [
    {
     "name": "stdout",
     "output_type": "stream",
     "text": [
      "5 folds 의 개별 Negative MSE scores:  [  -9.952  -37.426  -47.004 -104.433  -68.96 ]\n",
      "5 folds 의 개별 RMSE scores : [ 3.155  6.118  6.856 10.219  8.304]\n",
      "5 folds 의 평균 RMSE : 6.930\n"
     ]
    }
   ],
   "source": [
    "x_data = x_data[['rm', 'chas', 'dis']]\n",
    "neg_mse_scores = cross_val_score(lr, x_data, y_target, scoring=\"neg_mean_squared_error\", cv=5)\n",
    "rmse_scores = np.sqrt(-1 * neg_mse_scores)\n",
    "avg_rmse = np.mean(rmse_scores)\n",
    "\n",
    "print('5 folds 의 개별 Negative MSE scores: ', np.round(neg_mse_scores, 3))\n",
    "print('5 folds 의 개별 RMSE scores :', np.round(rmse_scores, 3))\n",
    "print('5 folds 의 평균 RMSE : {0:.3f}'.format(avg_rmse))"
   ]
  },
  {
   "cell_type": "code",
   "execution_count": null,
   "id": "55b6aa9c",
   "metadata": {},
   "outputs": [],
   "source": []
  }
 ],
 "metadata": {
  "kernelspec": {
   "display_name": "Python 3 (ipykernel)",
   "language": "python",
   "name": "python3"
  },
  "language_info": {
   "codemirror_mode": {
    "name": "ipython",
    "version": 3
   },
   "file_extension": ".py",
   "mimetype": "text/x-python",
   "name": "python",
   "nbconvert_exporter": "python",
   "pygments_lexer": "ipython3",
   "version": "3.10.9"
  }
 },
 "nbformat": 4,
 "nbformat_minor": 5
}
