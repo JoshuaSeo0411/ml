{
 "cells": [
  {
   "cell_type": "markdown",
   "id": "0c8035cc",
   "metadata": {},
   "source": [
    "### k-Nearest Neighbor(kNN)"
   ]
  },
  {
   "cell_type": "code",
   "execution_count": 1,
   "id": "942daf98",
   "metadata": {},
   "outputs": [
    {
     "name": "stdout",
     "output_type": "stream",
     "text": [
      "['sepal length (cm)', 'sepal width (cm)', 'petal length (cm)', 'petal width (cm)']\n",
      "['setosa' 'versicolor' 'virginica']\n",
      "[5.1 3.5 1.4 0.2]\n",
      "0\n"
     ]
    }
   ],
   "source": [
    "from sklearn.datasets import load_iris\n",
    "iris = load_iris()\n",
    "print(iris.feature_names)\n",
    "print(iris.target_names)\n",
    "print(iris.data[0])\n",
    "print(iris.target[0])"
   ]
  },
  {
   "cell_type": "code",
   "execution_count": 3,
   "id": "09d5879b",
   "metadata": {
    "scrolled": true
   },
   "outputs": [
    {
     "name": "stdout",
     "output_type": "stream",
     "text": [
      "Example 0: label 0, features [5.1 3.5 1.4 0.2]\n",
      "Example 1: label 0, features [4.9 3.  1.4 0.2]\n",
      "Example 2: label 0, features [4.7 3.2 1.3 0.2]\n",
      "Example 3: label 0, features [4.6 3.1 1.5 0.2]\n",
      "Example 4: label 0, features [5.  3.6 1.4 0.2]\n",
      "Example 5: label 0, features [5.4 3.9 1.7 0.4]\n",
      "Example 6: label 0, features [4.6 3.4 1.4 0.3]\n",
      "Example 7: label 0, features [5.  3.4 1.5 0.2]\n",
      "Example 8: label 0, features [4.4 2.9 1.4 0.2]\n",
      "Example 9: label 0, features [4.9 3.1 1.5 0.1]\n",
      "Example 10: label 0, features [5.4 3.7 1.5 0.2]\n",
      "Example 11: label 0, features [4.8 3.4 1.6 0.2]\n",
      "Example 12: label 0, features [4.8 3.  1.4 0.1]\n",
      "Example 13: label 0, features [4.3 3.  1.1 0.1]\n",
      "Example 14: label 0, features [5.8 4.  1.2 0.2]\n",
      "Example 15: label 0, features [5.7 4.4 1.5 0.4]\n",
      "Example 16: label 0, features [5.4 3.9 1.3 0.4]\n",
      "Example 17: label 0, features [5.1 3.5 1.4 0.3]\n",
      "Example 18: label 0, features [5.7 3.8 1.7 0.3]\n",
      "Example 19: label 0, features [5.1 3.8 1.5 0.3]\n",
      "Example 20: label 0, features [5.4 3.4 1.7 0.2]\n",
      "Example 21: label 0, features [5.1 3.7 1.5 0.4]\n",
      "Example 22: label 0, features [4.6 3.6 1.  0.2]\n",
      "Example 23: label 0, features [5.1 3.3 1.7 0.5]\n",
      "Example 24: label 0, features [4.8 3.4 1.9 0.2]\n",
      "Example 25: label 0, features [5.  3.  1.6 0.2]\n",
      "Example 26: label 0, features [5.  3.4 1.6 0.4]\n",
      "Example 27: label 0, features [5.2 3.5 1.5 0.2]\n",
      "Example 28: label 0, features [5.2 3.4 1.4 0.2]\n",
      "Example 29: label 0, features [4.7 3.2 1.6 0.2]\n",
      "Example 30: label 0, features [4.8 3.1 1.6 0.2]\n",
      "Example 31: label 0, features [5.4 3.4 1.5 0.4]\n",
      "Example 32: label 0, features [5.2 4.1 1.5 0.1]\n",
      "Example 33: label 0, features [5.5 4.2 1.4 0.2]\n",
      "Example 34: label 0, features [4.9 3.1 1.5 0.2]\n",
      "Example 35: label 0, features [5.  3.2 1.2 0.2]\n",
      "Example 36: label 0, features [5.5 3.5 1.3 0.2]\n",
      "Example 37: label 0, features [4.9 3.6 1.4 0.1]\n",
      "Example 38: label 0, features [4.4 3.  1.3 0.2]\n",
      "Example 39: label 0, features [5.1 3.4 1.5 0.2]\n",
      "Example 40: label 0, features [5.  3.5 1.3 0.3]\n",
      "Example 41: label 0, features [4.5 2.3 1.3 0.3]\n",
      "Example 42: label 0, features [4.4 3.2 1.3 0.2]\n",
      "Example 43: label 0, features [5.  3.5 1.6 0.6]\n",
      "Example 44: label 0, features [5.1 3.8 1.9 0.4]\n",
      "Example 45: label 0, features [4.8 3.  1.4 0.3]\n",
      "Example 46: label 0, features [5.1 3.8 1.6 0.2]\n",
      "Example 47: label 0, features [4.6 3.2 1.4 0.2]\n",
      "Example 48: label 0, features [5.3 3.7 1.5 0.2]\n",
      "Example 49: label 0, features [5.  3.3 1.4 0.2]\n",
      "Example 50: label 1, features [7.  3.2 4.7 1.4]\n",
      "Example 51: label 1, features [6.4 3.2 4.5 1.5]\n",
      "Example 52: label 1, features [6.9 3.1 4.9 1.5]\n",
      "Example 53: label 1, features [5.5 2.3 4.  1.3]\n",
      "Example 54: label 1, features [6.5 2.8 4.6 1.5]\n",
      "Example 55: label 1, features [5.7 2.8 4.5 1.3]\n",
      "Example 56: label 1, features [6.3 3.3 4.7 1.6]\n",
      "Example 57: label 1, features [4.9 2.4 3.3 1. ]\n",
      "Example 58: label 1, features [6.6 2.9 4.6 1.3]\n",
      "Example 59: label 1, features [5.2 2.7 3.9 1.4]\n",
      "Example 60: label 1, features [5.  2.  3.5 1. ]\n",
      "Example 61: label 1, features [5.9 3.  4.2 1.5]\n",
      "Example 62: label 1, features [6.  2.2 4.  1. ]\n",
      "Example 63: label 1, features [6.1 2.9 4.7 1.4]\n",
      "Example 64: label 1, features [5.6 2.9 3.6 1.3]\n",
      "Example 65: label 1, features [6.7 3.1 4.4 1.4]\n",
      "Example 66: label 1, features [5.6 3.  4.5 1.5]\n",
      "Example 67: label 1, features [5.8 2.7 4.1 1. ]\n",
      "Example 68: label 1, features [6.2 2.2 4.5 1.5]\n",
      "Example 69: label 1, features [5.6 2.5 3.9 1.1]\n",
      "Example 70: label 1, features [5.9 3.2 4.8 1.8]\n",
      "Example 71: label 1, features [6.1 2.8 4.  1.3]\n",
      "Example 72: label 1, features [6.3 2.5 4.9 1.5]\n",
      "Example 73: label 1, features [6.1 2.8 4.7 1.2]\n",
      "Example 74: label 1, features [6.4 2.9 4.3 1.3]\n",
      "Example 75: label 1, features [6.6 3.  4.4 1.4]\n",
      "Example 76: label 1, features [6.8 2.8 4.8 1.4]\n",
      "Example 77: label 1, features [6.7 3.  5.  1.7]\n",
      "Example 78: label 1, features [6.  2.9 4.5 1.5]\n",
      "Example 79: label 1, features [5.7 2.6 3.5 1. ]\n",
      "Example 80: label 1, features [5.5 2.4 3.8 1.1]\n",
      "Example 81: label 1, features [5.5 2.4 3.7 1. ]\n",
      "Example 82: label 1, features [5.8 2.7 3.9 1.2]\n",
      "Example 83: label 1, features [6.  2.7 5.1 1.6]\n",
      "Example 84: label 1, features [5.4 3.  4.5 1.5]\n",
      "Example 85: label 1, features [6.  3.4 4.5 1.6]\n",
      "Example 86: label 1, features [6.7 3.1 4.7 1.5]\n",
      "Example 87: label 1, features [6.3 2.3 4.4 1.3]\n",
      "Example 88: label 1, features [5.6 3.  4.1 1.3]\n",
      "Example 89: label 1, features [5.5 2.5 4.  1.3]\n",
      "Example 90: label 1, features [5.5 2.6 4.4 1.2]\n",
      "Example 91: label 1, features [6.1 3.  4.6 1.4]\n",
      "Example 92: label 1, features [5.8 2.6 4.  1.2]\n",
      "Example 93: label 1, features [5.  2.3 3.3 1. ]\n",
      "Example 94: label 1, features [5.6 2.7 4.2 1.3]\n",
      "Example 95: label 1, features [5.7 3.  4.2 1.2]\n",
      "Example 96: label 1, features [5.7 2.9 4.2 1.3]\n",
      "Example 97: label 1, features [6.2 2.9 4.3 1.3]\n",
      "Example 98: label 1, features [5.1 2.5 3.  1.1]\n",
      "Example 99: label 1, features [5.7 2.8 4.1 1.3]\n",
      "Example 100: label 2, features [6.3 3.3 6.  2.5]\n",
      "Example 101: label 2, features [5.8 2.7 5.1 1.9]\n",
      "Example 102: label 2, features [7.1 3.  5.9 2.1]\n",
      "Example 103: label 2, features [6.3 2.9 5.6 1.8]\n",
      "Example 104: label 2, features [6.5 3.  5.8 2.2]\n",
      "Example 105: label 2, features [7.6 3.  6.6 2.1]\n",
      "Example 106: label 2, features [4.9 2.5 4.5 1.7]\n",
      "Example 107: label 2, features [7.3 2.9 6.3 1.8]\n",
      "Example 108: label 2, features [6.7 2.5 5.8 1.8]\n",
      "Example 109: label 2, features [7.2 3.6 6.1 2.5]\n",
      "Example 110: label 2, features [6.5 3.2 5.1 2. ]\n",
      "Example 111: label 2, features [6.4 2.7 5.3 1.9]\n",
      "Example 112: label 2, features [6.8 3.  5.5 2.1]\n",
      "Example 113: label 2, features [5.7 2.5 5.  2. ]\n",
      "Example 114: label 2, features [5.8 2.8 5.1 2.4]\n",
      "Example 115: label 2, features [6.4 3.2 5.3 2.3]\n",
      "Example 116: label 2, features [6.5 3.  5.5 1.8]\n",
      "Example 117: label 2, features [7.7 3.8 6.7 2.2]\n",
      "Example 118: label 2, features [7.7 2.6 6.9 2.3]\n",
      "Example 119: label 2, features [6.  2.2 5.  1.5]\n",
      "Example 120: label 2, features [6.9 3.2 5.7 2.3]\n",
      "Example 121: label 2, features [5.6 2.8 4.9 2. ]\n",
      "Example 122: label 2, features [7.7 2.8 6.7 2. ]\n",
      "Example 123: label 2, features [6.3 2.7 4.9 1.8]\n",
      "Example 124: label 2, features [6.7 3.3 5.7 2.1]\n",
      "Example 125: label 2, features [7.2 3.2 6.  1.8]\n",
      "Example 126: label 2, features [6.2 2.8 4.8 1.8]\n",
      "Example 127: label 2, features [6.1 3.  4.9 1.8]\n",
      "Example 128: label 2, features [6.4 2.8 5.6 2.1]\n",
      "Example 129: label 2, features [7.2 3.  5.8 1.6]\n",
      "Example 130: label 2, features [7.4 2.8 6.1 1.9]\n",
      "Example 131: label 2, features [7.9 3.8 6.4 2. ]\n",
      "Example 132: label 2, features [6.4 2.8 5.6 2.2]\n",
      "Example 133: label 2, features [6.3 2.8 5.1 1.5]\n",
      "Example 134: label 2, features [6.1 2.6 5.6 1.4]\n",
      "Example 135: label 2, features [7.7 3.  6.1 2.3]\n",
      "Example 136: label 2, features [6.3 3.4 5.6 2.4]\n",
      "Example 137: label 2, features [6.4 3.1 5.5 1.8]\n",
      "Example 138: label 2, features [6.  3.  4.8 1.8]\n",
      "Example 139: label 2, features [6.9 3.1 5.4 2.1]\n",
      "Example 140: label 2, features [6.7 3.1 5.6 2.4]\n",
      "Example 141: label 2, features [6.9 3.1 5.1 2.3]\n",
      "Example 142: label 2, features [5.8 2.7 5.1 1.9]\n",
      "Example 143: label 2, features [6.8 3.2 5.9 2.3]\n",
      "Example 144: label 2, features [6.7 3.3 5.7 2.5]\n",
      "Example 145: label 2, features [6.7 3.  5.2 2.3]\n",
      "Example 146: label 2, features [6.3 2.5 5.  1.9]\n",
      "Example 147: label 2, features [6.5 3.  5.2 2. ]\n",
      "Example 148: label 2, features [6.2 3.4 5.4 2.3]\n",
      "Example 149: label 2, features [5.9 3.  5.1 1.8]\n"
     ]
    }
   ],
   "source": [
    "for i in range(len(iris.target)):\n",
    "    print(\"Example %d: label %s, features %s\" % (i, iris.target[i], iris.data[i]))"
   ]
  },
  {
   "cell_type": "code",
   "execution_count": 5,
   "id": "f7980ea6",
   "metadata": {},
   "outputs": [
    {
     "data": {
      "text/plain": [
       "<matplotlib.legend.Legend at 0x2594e207ee0>"
      ]
     },
     "execution_count": 5,
     "metadata": {},
     "output_type": "execute_result"
    },
    {
     "data": {
      "image/png": "[encoded data removed]",
      "text/plain": [
       "<Figure size 640x480 with 1 Axes>"
      ]
     },
     "metadata": {},
     "output_type": "display_data"
    }
   ],
   "source": [
    "import matplotlib.pyplot as plt\n",
    "sepal = iris.data[:, 0:2]\n",
    "kind = iris.target\n",
    "plt.xlabel('Sepal Length')\n",
    "plt.ylabel('Sepal Width')\n",
    "plt.plot(sepal[kind==0][:,0], sepal[kind==0][:,1], \"ro\", label='Setosa')\n",
    "plt.plot(sepal[kind==1][:,0], sepal[kind==1][:,1], \"bo\", label='Vesicolor')\n",
    "plt.plot(sepal[kind==2][:,0], sepal[kind==2][:,1], \"yo\", label='Virginica')\n",
    "plt.legend()"
   ]
  },
  {
   "cell_type": "code",
   "execution_count": 6,
   "id": "2d680905",
   "metadata": {},
   "outputs": [],
   "source": [
    "from sklearn.model_selection import train_test_split\n",
    "\n",
    "X = iris.data\n",
    "y = iris.target\n",
    "\n",
    "X_train, X_test, y_train, y_test = train_test_split(X, y, test_size=0.2, random_state=4)"
   ]
  },
  {
   "cell_type": "code",
   "execution_count": 7,
   "id": "faba7f0f",
   "metadata": {},
   "outputs": [
    {
     "name": "stdout",
     "output_type": "stream",
     "text": [
      "(120, 4)\n",
      "(30, 4)\n"
     ]
    }
   ],
   "source": [
    "print(X_train.shape)\n",
    "print(X_test.shape)"
   ]
  },
  {
   "cell_type": "code",
   "execution_count": 8,
   "id": "4b7fdf2e",
   "metadata": {},
   "outputs": [
    {
     "data": {
      "text/plain": [
       "0.9666666666666667"
      ]
     },
     "execution_count": 8,
     "metadata": {},
     "output_type": "execute_result"
    }
   ],
   "source": [
    "from sklearn.neighbors import KNeighborsClassifier\n",
    "from sklearn import metrics\n",
    "\n",
    "knn = KNeighborsClassifier(n_neighbors=6)\n",
    "knn.fit(X_train, y_train)\n",
    "\n",
    "y_pred = knn.predict(X_test)\n",
    "scores = metrics.accuracy_score(y_test, y_pred)\n",
    "scores"
   ]
  },
  {
   "cell_type": "code",
   "execution_count": 9,
   "id": "c6391e4c",
   "metadata": {},
   "outputs": [
    {
     "name": "stdout",
     "output_type": "stream",
     "text": [
      "versicolor\n",
      "setosa\n"
     ]
    }
   ],
   "source": [
    "knn = KNeighborsClassifier(n_neighbors=5)\n",
    "knn.fit(X, y)\n",
    "\n",
    "classes = {0:'setosa', 1:'versicolor', 2:'virginica'}\n",
    "\n",
    "x_new = [[3,4,5,2], [5,4,2,2]]\n",
    "y_predict = knn.predict(x_new)\n",
    "\n",
    "print(classes[y_predict[0]])\n",
    "print(classes[y_predict[1]])ry"
   ]
  },
  {
   "cell_type": "code",
   "execution_count": null,
   "id": "b1ad3580",
   "metadata": {},
   "outputs": [],
   "source": []
  }
 ],
 "metadata": {
  "kernelspec": {
   "display_name": "Python 3 (ipykernel)",
   "language": "python",
   "name": "python3"
  },
  "language_info": {
   "codemirror_mode": {
    "name": "ipython",
    "version": 3
   },
   "file_extension": ".py",
   "mimetype": "text/x-python",
   "name": "python",
   "nbconvert_exporter": "python",
   "pygments_lexer": "ipython3",
   "version": "3.10.9"
  }
 },
 "nbformat": 4,
 "nbformat_minor": 5
}
