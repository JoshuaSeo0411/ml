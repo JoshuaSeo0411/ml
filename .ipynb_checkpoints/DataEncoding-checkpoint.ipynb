{
 "cells": [
  {
   "cell_type": "markdown",
   "id": "77efef46",
   "metadata": {},
   "source": [
    "### # [`sklearn.preprocessing`](https://scikit-learn.org/stable/modules/classes.html#module-sklearn.preprocessing \"sklearn.preprocessing\").LabelEncoder\n",
    "* _class_ sklearn.preprocessing.LabelEncoder[[source]](https://github.com/scikit-learn/scikit-learn/blob/ff1023fda/sklearn/preprocessing/_label.py#L36)[](https://scikit-learn.org/stable/modules/generated/sklearn.preprocessing.LabelEncoder.html#sklearn.preprocessing.LabelEncoder \"Permalink to this definition\")\n",
    "\n",
    "Encode target labels with value between 0 and n_classes-1.\n",
    "\n",
    "This transformer should be used to encode target values,  _i.e._  `y`, and not the input  `X`.\n",
    "\n",
    "Read more in the  [User Guide](https://scikit-learn.org/stable/modules/preprocessing_targets.html#preprocessing-targets)."
   ]
  },
  {
   "cell_type": "markdown",
   "id": "937a98bb",
   "metadata": {},
   "source": [
    "#### Methods\n",
    "\n",
    "[`fit`](https://scikit-learn.org/stable/modules/generated/sklearn.preprocessing.LabelEncoder.html#sklearn.preprocessing.LabelEncoder.fit \"sklearn.preprocessing.LabelEncoder.fit\")(y)\n",
    "Fit label encoder.\n",
    "\n",
    "[`fit_transform`](https://scikit-learn.org/stable/modules/generated/sklearn.preprocessing.LabelEncoder.html#sklearn.preprocessing.LabelEncoder.fit_transform \"sklearn.preprocessing.LabelEncoder.fit_transform\")(y)\n",
    "Fit label encoder and return encoded labels.\n",
    "\n",
    "[`get_params`](https://scikit-learn.org/stable/modules/generated/sklearn.preprocessing.LabelEncoder.html#sklearn.preprocessing.LabelEncoder.get_params \"sklearn.preprocessing.LabelEncoder.get_params\")([deep])\n",
    "Get parameters for this estimator.\n",
    "\n",
    "[`inverse_transform`](https://scikit-learn.org/stable/modules/generated/sklearn.preprocessing.LabelEncoder.html#sklearn.preprocessing.LabelEncoder.inverse_transform \"sklearn.preprocessing.LabelEncoder.inverse_transform\")(y)\n",
    "Transform labels back to original encoding.\n",
    "\n",
    "[`set_output`](https://scikit-learn.org/stable/modules/generated/sklearn.preprocessing.LabelEncoder.html#sklearn.preprocessing.LabelEncoder.set_output \"sklearn.preprocessing.LabelEncoder.set_output\")(*[, transform])\n",
    "Set output container.\n",
    "\n",
    "[`set_params`](https://scikit-learn.org/stable/modules/generated/sklearn.preprocessing.LabelEncoder.html#sklearn.preprocessing.LabelEncoder.set_params \"sklearn.preprocessing.LabelEncoder.set_params\")(**params)\n",
    "Set the parameters of this estimator.\n",
    "\n",
    "[`transform`](https://scikit-learn.org/stable/modules/generated/sklearn.preprocessing.LabelEncoder.html#sklearn.preprocessing.LabelEncoder.transform \"sklearn.preprocessing.LabelEncoder.transform\")(y)\n",
    "Transform labels to normalized encoding."
   ]
  },
  {
   "cell_type": "code",
   "execution_count": 7,
   "id": "ce773406",
   "metadata": {},
   "outputs": [
    {
     "name": "stdout",
     "output_type": "stream",
     "text": [
      "인코딩 변환값 [0 1 4 5 3 3 2 2]\n"
     ]
    }
   ],
   "source": [
    "from sklearn.preprocessing import LabelEncoder\n",
    "\n",
    "items = ['TV', '냉장고', '전자렌지', '컴퓨터', '선풍기', '선풍기', '믹서', '믹서']\n",
    "\n",
    "LE = LabelEncoder()\n",
    "LE.fit(items)\n",
    "labels = LE.transform(items)\n",
    "print('인코딩 변환값', labels)"
   ]
  },
  {
   "cell_type": "code",
   "execution_count": 14,
   "id": "260a2cf4",
   "metadata": {},
   "outputs": [
    {
     "data": {
      "text/plain": [
       "array([0, 1, 4, 5, 3, 3, 2, 2], dtype=int64)"
      ]
     },
     "execution_count": 14,
     "metadata": {},
     "output_type": "execute_result"
    }
   ],
   "source": [
    "LE.fit_transform(items)"
   ]
  },
  {
   "cell_type": "code",
   "execution_count": 8,
   "id": "0a4cb3e9",
   "metadata": {},
   "outputs": [
    {
     "name": "stdout",
     "output_type": "stream",
     "text": [
      "인코딩 클래스 ['TV' '냉장고' '믹서' '선풍기' '전자렌지' '컴퓨터']\n"
     ]
    }
   ],
   "source": [
    "print('인코딩 클래스', LE.classes_)"
   ]
  },
  {
   "cell_type": "code",
   "execution_count": 15,
   "id": "d8e65b85",
   "metadata": {},
   "outputs": [
    {
     "name": "stdout",
     "output_type": "stream",
     "text": [
      "디코딩 원본 값 ['TV' '냉장고' '믹서' '선풍기' '전자렌지' '컴퓨터']\n"
     ]
    }
   ],
   "source": [
    "print('디코딩 원본 값', LE.inverse_transform([0, 1, 2, 3, 4, 5]))"
   ]
  },
  {
   "cell_type": "code",
   "execution_count": 16,
   "id": "507a33a9",
   "metadata": {},
   "outputs": [
    {
     "data": {
      "text/plain": [
       "array(['TV', '냉장고', '믹서'], dtype='<U4')"
      ]
     },
     "execution_count": 16,
     "metadata": {},
     "output_type": "execute_result"
    }
   ],
   "source": [
    "LE.inverse_transform([0,1,2])"
   ]
  },
  {
   "cell_type": "markdown",
   "id": "0ff481a0",
   "metadata": {},
   "source": [
    "### [`sklearn.preprocessing`](https://scikit-learn.org/1.1/modules/classes.html#module-sklearn.preprocessing \"sklearn.preprocessing\").OneHotEncoder\n",
    "* _class_ sklearn.preprocessing.OneHotEncoder(_*_,  _categories='auto'_,  _drop=None_,  _sparse=True_,  _dtype=<class  'numpy.float64'>_,  _handle_unknown='error'_,  _min_frequency=None_,  _max_categories=None_)[[source]](https://github.com/scikit-learn/scikit-learn/blob/f3f51f9b6/sklearn/preprocessing/_encoders.py#L201)[](https://scikit-learn.org/1.1/modules/generated/sklearn.preprocessing.OneHotEncoder.html?highlight=onehot#sklearn.preprocessing.OneHotEncoder \"Permalink to this definition\")\n",
    "\n",
    "Encode categorical features as a one-hot numeric array.\n",
    "\n",
    "The input to this transformer should be an array-like of integers or strings, denoting the values taken on by categorical (discrete) features. The features are encoded using a one-hot (aka ‘one-of-K’ or ‘dummy’) encoding scheme. This creates a binary column for each category and returns a sparse matrix or dense array (depending on the  `sparse`  parameter)\n",
    "\n",
    "By default, the encoder derives the categories based on the unique values in each feature. Alternatively, you can also specify the  `categories`  manually.\n",
    "\n",
    "This encoding is needed for feeding categorical data to many scikit-learn estimators, notably linear models and SVMs with the standard kernels.\n",
    "\n",
    "Note: a one-hot encoding of y labels should use a LabelBinarizer instead.\n",
    "\n",
    "Read more in the  [User Guide](https://scikit-learn.org/1.1/modules/preprocessing.html#preprocessing-categorical-features)."
   ]
  },
  {
   "cell_type": "code",
   "execution_count": 30,
   "id": "8a644b23",
   "metadata": {},
   "outputs": [
    {
     "data": {
      "text/plain": [
       "[array(['a', 'd'], dtype=object)]"
      ]
     },
     "execution_count": 30,
     "metadata": {},
     "output_type": "execute_result"
    }
   ],
   "source": [
    "from sklearn.preprocessing import OneHotEncoder\n",
    "import numpy as np\n",
    "X = np.array([[\"a\"] * 5 + [\"b\"] * 20 + [\"c\"] * 10 + [\"d\"] * 3], dtype=object).T\n",
    "ohe = OneHotEncoder(max_categories=3, sparse_output=False).fit(X)\n",
    "ohe.infrequent_categories_"
   ]
  },
  {
   "cell_type": "code",
   "execution_count": 24,
   "id": "0ce082d6",
   "metadata": {},
   "outputs": [
    {
     "data": {
      "text/plain": [
       "array([[0., 0., 1.],\n",
       "       [1., 0., 0.]])"
      ]
     },
     "execution_count": 24,
     "metadata": {},
     "output_type": "execute_result"
    }
   ],
   "source": [
    "ohe.transform([[\"a\"], [\"b\"]])"
   ]
  },
  {
   "cell_type": "code",
   "execution_count": 33,
   "id": "f5032ca3",
   "metadata": {
    "scrolled": false
   },
   "outputs": [
    {
     "data": {
      "text/plain": [
       "<2x3 sparse matrix of type '<class 'numpy.float64'>'\n",
       "\twith 2 stored elements in Compressed Sparse Row format>"
      ]
     },
     "execution_count": 33,
     "metadata": {},
     "output_type": "execute_result"
    }
   ],
   "source": [
    "# sparse_output 삭제\n",
    "ohe_1 = OneHotEncoder(max_categories=3).fit(X)\n",
    "ohe_1.transform([[\"a\"], [\"b\"]])"
   ]
  },
  {
   "cell_type": "code",
   "execution_count": 35,
   "id": "bac4102f",
   "metadata": {},
   "outputs": [
    {
     "data": {
      "text/plain": [
       "array([[1., 0., 0., 0.],\n",
       "       [0., 1., 0., 0.]])"
      ]
     },
     "execution_count": 35,
     "metadata": {},
     "output_type": "execute_result"
    }
   ],
   "source": [
    "# max_categories 삭제\n",
    "ohe_2 = OneHotEncoder(sparse_output=False).fit(X)\n",
    "ohe_2.transform([[\"a\"], [\"b\"]])"
   ]
  },
  {
   "cell_type": "code",
   "execution_count": 41,
   "id": "20f7ab74",
   "metadata": {},
   "outputs": [
    {
     "data": {
      "text/plain": [
       "array([[1., 0., 0., 0.],\n",
       "       [0., 1., 0., 0.],\n",
       "       [0., 0., 0., 1.]])"
      ]
     },
     "execution_count": 41,
     "metadata": {},
     "output_type": "execute_result"
    }
   ],
   "source": [
    "# max_categories 변경\n",
    "ohe_3 = OneHotEncoder(max_categories 변경=5, sparse_output=False).fit(X)\n",
    "ohe_3.transform([[\"a\"], [\"b\"], [\"d\"]])"
   ]
  },
  {
   "cell_type": "code",
   "execution_count": 44,
   "id": "d82b5ff6",
   "metadata": {},
   "outputs": [
    {
     "data": {
      "text/plain": [
       "array([[1., 0., 0., 0.],\n",
       "       [0., 1., 0., 0.],\n",
       "       [0., 0., 0., 0.]])"
      ]
     },
     "execution_count": 44,
     "metadata": {},
     "output_type": "execute_result"
    }
   ],
   "source": [
    "# handle_unknown 사용해 없는 변수 삽입\n",
    "ohe_4 = OneHotEncoder(max_categories=5, handle_unknown='ignore', sparse_output=False).fit(X)\n",
    "ohe_4.transform([[\"a\"], [\"b\"], [\"f\"]])"
   ]
  },
  {
   "cell_type": "code",
   "execution_count": 62,
   "id": "26a2a8e3",
   "metadata": {},
   "outputs": [
    {
     "name": "stdout",
     "output_type": "stream",
     "text": [
      "원-핫 인코딩 데이터\n",
      "[[1. 0. 0. 0. 0. 0.]\n",
      " [0. 1. 0. 0. 0. 0.]\n",
      " [0. 0. 0. 0. 1. 0.]\n",
      " [0. 0. 0. 0. 0. 1.]\n",
      " [0. 0. 0. 1. 0. 0.]\n",
      " [0. 0. 0. 1. 0. 0.]\n",
      " [0. 0. 1. 0. 0. 0.]\n",
      " [0. 0. 1. 0. 0. 0.]]\n",
      "원-핫 인코딩 데이터 차원\n",
      "(8, 6)\n"
     ]
    }
   ],
   "source": [
    "from sklearn.preprocessing import OneHotEncoder\n",
    "import numpy as np\n",
    "\n",
    "items = ['TV', '냉장고', '전자렌지', '컴퓨터', '선풍기', '선풍기', '믹서', '믹서']\n",
    "encoder = LabelEncoder()\n",
    "encoder.fit(items)\n",
    "labels = encoder.transform(items)\n",
    "labels = labels.reshape(-1, 1)\n",
    "\n",
    "oh_encoder = OneHotEncoder()\n",
    "oh_encoder.fit(labels)\n",
    "oh_labels = oh_encoder.transform(labels)\n",
    "print('원-핫 인코딩 데이터')\n",
    "print(oh_labels.toarray())\n",
    "print('원-핫 인코딩 데이터 차원')\n",
    "print(oh_labels.shape)"
   ]
  },
  {
   "cell_type": "code",
   "execution_count": 57,
   "id": "61723d9d",
   "metadata": {},
   "outputs": [
    {
     "name": "stderr",
     "output_type": "stream",
     "text": [
      "C:\\Users\\USER\\AppData\\Local\\Programs\\Python\\Python310\\lib\\site-packages\\sklearn\\preprocessing\\_encoders.py:828: FutureWarning: `sparse` was renamed to `sparse_output` in version 1.2 and will be removed in 1.4. `sparse_output` is ignored unless you leave `sparse` to its default value.\n",
      "  warnings.warn(\n"
     ]
    }
   ],
   "source": [
    "from sklearn.preprocessing import LabelEncoder\n",
    "from sklearn.preprocessing import OneHotEncoder\n",
    "import numpy as np\n",
    "items = np.array(['TV', '냉장고', '전자렌지', '컴퓨터', '선풍기', '선풍기', '믹서', '믹서']).reshape(-1,1)\n",
    "\n",
    "# items = np.array(items)\n",
    "# print(items.shape)\n",
    "# items = np.array(items).reshape(-1,1)\n",
    "# print(items.shape)\n",
    "\n",
    "# LE = LabelEncoder()\n",
    "# LE.fit(items)\n",
    "# labels = LE.transform(items)\n",
    "# print('인코딩 변환값', labels)\n",
    "\n",
    "ohe = OneHotEncoder(sparse=False)\n",
    "result = ohe.fit_transform(items)"
   ]
  },
  {
   "cell_type": "code",
   "execution_count": 58,
   "id": "669bf8fb",
   "metadata": {},
   "outputs": [
    {
     "data": {
      "text/plain": [
       "array([[1., 0., 0., 0., 0., 0.],\n",
       "       [0., 1., 0., 0., 0., 0.],\n",
       "       [0., 0., 0., 0., 1., 0.],\n",
       "       [0., 0., 0., 0., 0., 1.],\n",
       "       [0., 0., 0., 1., 0., 0.],\n",
       "       [0., 0., 0., 1., 0., 0.],\n",
       "       [0., 0., 1., 0., 0., 0.],\n",
       "       [0., 0., 1., 0., 0., 0.]])"
      ]
     },
     "execution_count": 58,
     "metadata": {},
     "output_type": "execute_result"
    }
   ],
   "source": [
    "result"
   ]
  },
  {
   "cell_type": "code",
   "execution_count": 60,
   "id": "abad30cb",
   "metadata": {},
   "outputs": [
    {
     "data": {
      "text/html": [
       "<div>\n",
       "<style scoped>\n",
       "    .dataframe tbody tr th:only-of-type {\n",
       "        vertical-align: middle;\n",
       "    }\n",
       "\n",
       "    .dataframe tbody tr th {\n",
       "        vertical-align: top;\n",
       "    }\n",
       "\n",
       "    .dataframe thead th {\n",
       "        text-align: right;\n",
       "    }\n",
       "</style>\n",
       "<table border=\"1\" class=\"dataframe\">\n",
       "  <thead>\n",
       "    <tr style=\"text-align: right;\">\n",
       "      <th></th>\n",
       "      <th>TV</th>\n",
       "      <th>냉장고</th>\n",
       "      <th>믹서</th>\n",
       "      <th>선풍기</th>\n",
       "      <th>전자렌지</th>\n",
       "      <th>컴퓨터</th>\n",
       "    </tr>\n",
       "  </thead>\n",
       "  <tbody>\n",
       "    <tr>\n",
       "      <th>0</th>\n",
       "      <td>1.0</td>\n",
       "      <td>0.0</td>\n",
       "      <td>0.0</td>\n",
       "      <td>0.0</td>\n",
       "      <td>0.0</td>\n",
       "      <td>0.0</td>\n",
       "    </tr>\n",
       "    <tr>\n",
       "      <th>1</th>\n",
       "      <td>0.0</td>\n",
       "      <td>1.0</td>\n",
       "      <td>0.0</td>\n",
       "      <td>0.0</td>\n",
       "      <td>0.0</td>\n",
       "      <td>0.0</td>\n",
       "    </tr>\n",
       "    <tr>\n",
       "      <th>2</th>\n",
       "      <td>0.0</td>\n",
       "      <td>0.0</td>\n",
       "      <td>0.0</td>\n",
       "      <td>0.0</td>\n",
       "      <td>1.0</td>\n",
       "      <td>0.0</td>\n",
       "    </tr>\n",
       "    <tr>\n",
       "      <th>3</th>\n",
       "      <td>0.0</td>\n",
       "      <td>0.0</td>\n",
       "      <td>0.0</td>\n",
       "      <td>0.0</td>\n",
       "      <td>0.0</td>\n",
       "      <td>1.0</td>\n",
       "    </tr>\n",
       "    <tr>\n",
       "      <th>4</th>\n",
       "      <td>0.0</td>\n",
       "      <td>0.0</td>\n",
       "      <td>0.0</td>\n",
       "      <td>1.0</td>\n",
       "      <td>0.0</td>\n",
       "      <td>0.0</td>\n",
       "    </tr>\n",
       "    <tr>\n",
       "      <th>5</th>\n",
       "      <td>0.0</td>\n",
       "      <td>0.0</td>\n",
       "      <td>0.0</td>\n",
       "      <td>1.0</td>\n",
       "      <td>0.0</td>\n",
       "      <td>0.0</td>\n",
       "    </tr>\n",
       "    <tr>\n",
       "      <th>6</th>\n",
       "      <td>0.0</td>\n",
       "      <td>0.0</td>\n",
       "      <td>1.0</td>\n",
       "      <td>0.0</td>\n",
       "      <td>0.0</td>\n",
       "      <td>0.0</td>\n",
       "    </tr>\n",
       "    <tr>\n",
       "      <th>7</th>\n",
       "      <td>0.0</td>\n",
       "      <td>0.0</td>\n",
       "      <td>1.0</td>\n",
       "      <td>0.0</td>\n",
       "      <td>0.0</td>\n",
       "      <td>0.0</td>\n",
       "    </tr>\n",
       "  </tbody>\n",
       "</table>\n",
       "</div>"
      ],
      "text/plain": [
       "    TV  냉장고   믹서  선풍기  전자렌지  컴퓨터\n",
       "0  1.0  0.0  0.0  0.0   0.0  0.0\n",
       "1  0.0  1.0  0.0  0.0   0.0  0.0\n",
       "2  0.0  0.0  0.0  0.0   1.0  0.0\n",
       "3  0.0  0.0  0.0  0.0   0.0  1.0\n",
       "4  0.0  0.0  0.0  1.0   0.0  0.0\n",
       "5  0.0  0.0  0.0  1.0   0.0  0.0\n",
       "6  0.0  0.0  1.0  0.0   0.0  0.0\n",
       "7  0.0  0.0  1.0  0.0   0.0  0.0"
      ]
     },
     "execution_count": 60,
     "metadata": {},
     "output_type": "execute_result"
    }
   ],
   "source": [
    "import pandas as pd\n",
    "pd.DataFrame(result, columns=['TV', '냉장고', '믹서', '선풍기', '전자렌지', '컴퓨터'])"
   ]
  },
  {
   "cell_type": "code",
   "execution_count": null,
   "id": "115c64d8",
   "metadata": {},
   "outputs": [],
   "source": []
  }
 ],
 "metadata": {
  "kernelspec": {
   "display_name": "Python 3 (ipykernel)",
   "language": "python",
   "name": "python3"
  },
  "language_info": {
   "codemirror_mode": {
    "name": "ipython",
    "version": 3
   },
   "file_extension": ".py",
   "mimetype": "text/x-python",
   "name": "python",
   "nbconvert_exporter": "python",
   "pygments_lexer": "ipython3",
   "version": "3.10.9"
  }
 },
 "nbformat": 4,
 "nbformat_minor": 5
}
