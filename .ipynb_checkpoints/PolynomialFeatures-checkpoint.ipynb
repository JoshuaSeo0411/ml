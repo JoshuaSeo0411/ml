{
 "cells": [
  {
   "cell_type": "markdown",
   "id": "57d6895f",
   "metadata": {},
   "source": [
    "### [`sklearn.preprocessing`](https://scikit-learn.org/stable/modules/classes.html#module-sklearn.preprocessing \"sklearn.preprocessing\").PolynomialFeatures\n",
    "* _class_ sklearn.preprocessing.PolynomialFeatures(_degree=2_,  _*_,  _interaction_only=False_,  _include_bias=True_,  _order='C'_)[[source]](https://github.com/scikit-learn/scikit-learn/blob/7db5b6a98/sklearn/preprocessing/_polynomial.py#L30)[](https://scikit-learn.org/stable/modules/generated/sklearn.preprocessing.PolynomialFeatures.html#sklearn.preprocessing.PolynomialFeatures \"Permalink to this definition\")\n",
    "\n",
    "**Parameters** :\n",
    "\n",
    "**degree** : int or tuple (min_degree, max_degree), default=2\n",
    "\n",
    "If a single int is given, it specifies the maximal degree of the polynomial features. If a tuple  `(min_degree,  max_degree)`  is passed, then  `min_degree`  is the minimum and  `max_degree`  is the maximum polynomial degree of the generated features. Note that  `min_degree=0`  and  `min_degree=1`  are equivalent as outputting the degree zero term is determined by  `include_bias`.\n",
    "\n",
    "**interaction_only** : bool, default=False\n",
    "\n",
    "If  `True`, only interaction features are produced: features that are products of at most  `degree`  _distinct_  input features, i.e. terms with power of 2 or higher of the same input feature are excluded:\n",
    "\n",
    "> -   included:  `x[0]`,  `x[1]`,  `x[0]  *  x[1]`, etc.\n",
    ">     \n",
    "> -   excluded:  `x[0]  **  2`,  `x[0]  **  2  *  x[1]`, etc.\n",
    ">     \n",
    "\n",
    "**include_bias** : bool, default=True\n",
    "\n",
    "If  `True`  (default), then include a bias column, the feature in which all polynomial powers are zero (i.e. a column of ones - acts as an intercept term in a linear model).\n",
    "\n",
    "**order** : {‘C’, ‘F’}, default=’C’\n",
    "\n",
    "Order of output array in the dense case.  `'F'`  order is faster to compute, but may slow down subsequent estimators.\n",
    "\n",
    "New in version 0.21.\n",
    "\n",
    "\n",
    "**Attributes** :\n",
    "\n",
    "[`powers_`] : (https://scikit-learn.org/stable/modules/generated/sklearn.preprocessing.PolynomialFeatures.html#sklearn.preprocessing.PolynomialFeatures.powers_ \"sklearn.preprocessing.PolynomialFeatures.powers_\")ndarray of shape (`n_output_features_`,  `n_features_in_`)\n",
    "\n",
    "Exponent for each of the inputs in the output.\n",
    "\n",
    "**n_features_in_** : int\n",
    "\n",
    "Number of features seen during  [fit](https://scikit-learn.org/stable/glossary.html#term-fit).\n",
    "\n",
    "New in version 0.24.\n",
    "\n",
    "**feature_names_in_**  : ndarray of shape (`n_features_in_`,)\n",
    "\n",
    "Names of features seen during  [fit](https://scikit-learn.org/stable/glossary.html#term-fit). Defined only when  `X`  has feature names that are all strings.\n",
    "\n",
    "New in version 1.0.\n",
    "\n",
    "**n_output_features_** : int\n",
    "\n",
    "The total number of polynomial output features. The number of output features is computed by iterating over all suitably sized combinations of input features."
   ]
  },
  {
   "cell_type": "code",
   "execution_count": 1,
   "id": "f0b5d0d8",
   "metadata": {},
   "outputs": [
    {
     "name": "stdout",
     "output_type": "stream",
     "text": [
      "일차 단항식 계수 feature:\n",
      " [[0 1]\n",
      " [2 3]]\n"
     ]
    }
   ],
   "source": [
    "from sklearn.preprocessing import PolynomialFeatures\n",
    "import numpy as np\n",
    "\n",
    "# 다항식으로 변환한 단항식 생성, [[0,1],[2,3]]의 2X2 행렬 생성\n",
    "X = np.arange(4).reshape(2,2)\n",
    "print('일차 단항식 계수 feature:\\n', X)"
   ]
  },
  {
   "cell_type": "code",
   "execution_count": 2,
   "id": "769e257f",
   "metadata": {},
   "outputs": [
    {
     "name": "stdout",
     "output_type": "stream",
     "text": [
      "변환된 2차 다항식 계수 feature:\n",
      " [[1. 0. 1. 0. 0. 1.]\n",
      " [1. 2. 3. 4. 6. 9.]]\n"
     ]
    }
   ],
   "source": [
    "# degree = 2 인 2차 다항식으로 변환하기 위해 PolynomialFeatures를 이용하여 변환\n",
    "poly = PolynomialFeatures(degree=2)\n",
    "poly.fit(X)\n",
    "poly_ftr = poly.transform(X)\n",
    "print('변환된 2차 다항식 계수 feature:\\n', poly_ftr)"
   ]
  },
  {
   "cell_type": "code",
   "execution_count": 3,
   "id": "67900643",
   "metadata": {},
   "outputs": [
    {
     "name": "stdout",
     "output_type": "stream",
     "text": [
      "일차 단항식 계수 feature:\n",
      " [[0 1]\n",
      " [2 3]]\n",
      "삼차 다항식 결정값: \n",
      " [[0 1]\n",
      " [2 3]]\n"
     ]
    }
   ],
   "source": [
    "def polynomial_func(X):\n",
    "    y = 1 + 2*X + X**2 + X**3\n",
    "    return y\n",
    "\n",
    "X = np.arange(4).reshape(2,2)\n",
    "print('일차 단항식 계수 feature:\\n', X)\n",
    "y = polynomial_func(X)\n",
    "print('삼차 다항식 결정값: \\n', X)"
   ]
  },
  {
   "cell_type": "code",
   "execution_count": 4,
   "id": "1fb74eee",
   "metadata": {},
   "outputs": [
    {
     "name": "stdout",
     "output_type": "stream",
     "text": [
      "3차 다항식 계수 feature:\n",
      " [[ 1.  0.  1.  0.  0.  1.  0.  0.  0.  1.]\n",
      " [ 1.  2.  3.  4.  6.  9.  8. 12. 18. 27.]]\n",
      "Polynomial 회귀 계수\n",
      " [[0.   0.02 0.02 0.05 0.07 0.1  0.1  0.14 0.22 0.31]\n",
      " [0.   0.06 0.06 0.11 0.17 0.23 0.23 0.34 0.51 0.74]]\n",
      "Polynomial 회귀 shape : (2, 10)\n"
     ]
    }
   ],
   "source": [
    "from sklearn.linear_model import LinearRegression\n",
    "\n",
    "# 3차 다항식 변환\n",
    "poly_ftr = PolynomialFeatures(degree=3).fit_transform(X)\n",
    "print('3차 다항식 계수 feature:\\n', poly_ftr)\n",
    "\n",
    "# Linear Regression에 3차 다항식 계수 feature와 3차 다항식 결정값으로 학습 후 회귀 계수 확인\n",
    "model = LinearRegression()\n",
    "model.fit(poly_ftr, y)\n",
    "print('Polynomial 회귀 계수\\n', np.round(model.coef_, 2))\n",
    "print('Polynomial 회귀 shape :', model.coef_.shapeape)"
   ]
  },
  {
   "cell_type": "code",
   "execution_count": 5,
   "id": "2c4b48dc",
   "metadata": {},
   "outputs": [
    {
     "name": "stdout",
     "output_type": "stream",
     "text": [
      "Polynomial 회귀 계수\n",
      " [[0.   0.02 0.02 0.05 0.07 0.1  0.1  0.14 0.22 0.31]\n",
      " [0.   0.06 0.06 0.11 0.17 0.23 0.23 0.34 0.51 0.74]]\n"
     ]
    }
   ],
   "source": [
    "# 파이프라인을 이용해서 3차 다항 회귀 실습\n",
    "\n",
    "from sklearn.pipeline import Pipeline\n",
    "import numpy as np\n",
    "\n",
    "def polynomial_func(X):\n",
    "    y = 1 + 2*X + X**2 + X**3\n",
    "    return y\n",
    "\n",
    "# Pipeline 객체로 Streamline 하게 Polynomial Feature 변환과 Linear Regression을 연결\n",
    "model = Pipeline([('poly', PolynomialFeatures(degree=3)),('linear', LinearRegression())])\n",
    "\n",
    "x = np.arange(4).reshape(2,2)\n",
    "y = polynomial_func(X)\n",
    "\n",
    "model = model.fit(X, y)\n",
    "print('Polynomial 회귀 계수\\n', np.round(model.named_steps['linear'].coef_, 2))"
   ]
  },
  {
   "cell_type": "code",
   "execution_count": null,
   "id": "0c97d60e",
   "metadata": {},
   "outputs": [],
   "source": []
  }
 ],
 "metadata": {
  "kernelspec": {
   "display_name": "Python 3 (ipykernel)",
   "language": "python",
   "name": "python3"
  },
  "language_info": {
   "codemirror_mode": {
    "name": "ipython",
    "version": 3
   },
   "file_extension": ".py",
   "mimetype": "text/x-python",
   "name": "python",
   "nbconvert_exporter": "python",
   "pygments_lexer": "ipython3",
   "version": "3.10.9"
  }
 },
 "nbformat": 4,
 "nbformat_minor": 5
}
