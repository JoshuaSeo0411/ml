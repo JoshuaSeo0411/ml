{
 "cells": [
  {
   "cell_type": "markdown",
   "id": "2ecb2443",
   "metadata": {},
   "source": [
    "### [`sklearn.ensemble`](https://scikit-learn.org/stable/modules/classes.html#module-sklearn.ensemble \"sklearn.ensemble\").AdaBoostClassifier\n",
    "* _class_ sklearn.ensemble.AdaBoostClassifier(_estimator=None_,  _*_,  _n_estimators=50_,  _learning_rate=1.0_,  _algorithm='SAMME.R'_,  _random_state=None_,  _base_estimator='deprecated'_)[[source]](https://github.com/scikit-learn/scikit-learn/blob/7db5b6a98/sklearn/ensemble/_weight_boosting.py#L330)[](https://scikit-learn.org/stable/modules/generated/sklearn.ensemble.AdaBoostClassifier.html#sklearn.ensemble.AdaBoostClassifier \"Permalink to this definition\")"
   ]
  },
  {
   "cell_type": "code",
   "execution_count": 1,
   "id": "1badcd20",
   "metadata": {},
   "outputs": [],
   "source": [
    "import pandas as pd\n",
    "\n",
    "feature_name_df = pd.read_csv('./datasets/human_activity/features.txt', sep='\\s+', header=None, names=['column_index', 'column_name'])"
   ]
  },
  {
   "cell_type": "code",
   "execution_count": 2,
   "id": "c7e1a1dc",
   "metadata": {},
   "outputs": [],
   "source": [
    "feature_name = feature_name_df.iloc[: ,1].values.tolist()"
   ]
  },
  {
   "cell_type": "code",
   "execution_count": 3,
   "id": "8deb3f76",
   "metadata": {},
   "outputs": [],
   "source": [
    "feature_dup_df = feature_name_df.groupby('column_name').count()"
   ]
  },
  {
   "cell_type": "code",
   "execution_count": 4,
   "id": "bcfd82b0",
   "metadata": {},
   "outputs": [],
   "source": [
    "def get_new_feature_name_df(old_feature_name_df):\n",
    "    feature_dup_df = pd.DataFrame(data=old_feature_name_df.groupby('column_name').cumcount(), columns=['dup_cnt'])\n",
    "    feature_dup_df = feature_dup_df.reset_index()\n",
    "    new_feature_name_df = pd.merge(old_feature_name_df.reset_index(), feature_dup_df, how='outer')\n",
    "    new_feature_name_df['column_name'] = new_feature_name_df[['column_name', 'dup_cnt']].apply(lambda x : x[0]+'_'+str(x[1]) if x[1] > 0 else x[0], axis=1)\n",
    "    new_feature_name_df = new_feature_name_df.drop(['index'], axis=1)\n",
    "    return new_feature_name_df"
   ]
  },
  {
   "cell_type": "code",
   "execution_count": 5,
   "id": "58a64a4a",
   "metadata": {},
   "outputs": [],
   "source": [
    "def get_human_dataset():\n",
    "    feature_name_df = pd.read_csv('./datasets/human_activity/features.txt', sep='\\s+', header=None, names=['column_index', 'column_name'])\n",
    "    new_feature_name_df = get_new_feature_name_df(feature_name_df)\n",
    "    feature_name = new_feature_name_df.iloc[:, 1].values.tolist()\n",
    "    X_train = pd.read_csv('./datasets/human_activity/train/X_train.txt', sep='\\s+', names=feature_name)\n",
    "    X_test = pd.read_csv('./datasets/human_activity/test/X_test.txt', sep='\\s+', names=feature_name)\n",
    "    \n",
    "    y_train = pd.read_csv('./datasets/human_activity/train/y_train.txt', sep='\\s+', header=None, names=['action'])\n",
    "    y_test = pd.read_csv('./datasets/human_activity/test/y_test.txt', sep='\\s+', header=None, names=['action'])\n",
    "    \n",
    "    return X_train, X_test, y_train, y_test\n",
    "\n",
    "X_train, X_test, y_train, y_test = get_human_dataset()"
   ]
  },
  {
   "cell_type": "code",
   "execution_count": 6,
   "id": "def2447e",
   "metadata": {},
   "outputs": [
    {
     "name": "stderr",
     "output_type": "stream",
     "text": [
      "C:\\Users\\USER\\AppData\\Local\\Programs\\Python\\Python310\\lib\\site-packages\\sklearn\\utils\\validation.py:1143: DataConversionWarning: A column-vector y was passed when a 1d array was expected. Please change the shape of y to (n_samples, ), for example using ravel().\n",
      "  y = column_or_1d(y, warn=True)\n"
     ]
    },
    {
     "name": "stdout",
     "output_type": "stream",
     "text": [
      "GBM 정확도 : 0.5310\n",
      "GBM 수행 시간 : 61.8885\n"
     ]
    }
   ],
   "source": [
    "from sklearn.ensemble import AdaBoostClassifier\n",
    "from sklearn.metrics import accuracy_score\n",
    "import time\n",
    "\n",
    "X_train, X_test, y_train, y_test = get_human_dataset()\n",
    "\n",
    "start_time = time.time()\n",
    "\n",
    "ab_clf = AdaBoostClassifier(random_state=0)\n",
    "ab_clf.fit(X_train, y_train)\n",
    "ab_pred = ab_clf.predict(X_test)\n",
    "ab_accuracy = accuracy_score(y_test, ab_pred)\n",
    "\n",
    "print('ABM 정확도 : {0:.4f}'.format(ab_accuracy))\n",
    "print('ABM 수행 시간 : {0:.4f}'.format(time.time() - start_time))"
   ]
  },
  {
   "cell_type": "code",
   "execution_count": null,
   "id": "d0313731",
   "metadata": {},
   "outputs": [],
   "source": []
  }
 ],
 "metadata": {
  "kernelspec": {
   "display_name": "Python 3 (ipykernel)",
   "language": "python",
   "name": "python3"
  },
  "language_info": {
   "codemirror_mode": {
    "name": "ipython",
    "version": 3
   },
   "file_extension": ".py",
   "mimetype": "text/x-python",
   "name": "python",
   "nbconvert_exporter": "python",
   "pygments_lexer": "ipython3",
   "version": "3.10.9"
  }
 },
 "nbformat": 4,
 "nbformat_minor": 5
}
